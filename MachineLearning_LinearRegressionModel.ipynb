{
  "nbformat": 4,
  "nbformat_minor": 0,
  "metadata": {
    "colab": {
      "name": "MI_P4.ipynb",
      "provenance": [],
      "authorship_tag": "ABX9TyMoCvkRd5QSMVXvdMOtaE4P",
      "include_colab_link": true
    },
    "kernelspec": {
      "name": "python3",
      "display_name": "Python 3"
    },
    "language_info": {
      "name": "python"
    }
  },
  "cells": [
    {
      "cell_type": "markdown",
      "metadata": {
        "id": "view-in-github",
        "colab_type": "text"
      },
      "source": [
        "<a href=\"https://colab.research.google.com/github/Bhavesh0510/MI_Practicals/blob/main/MachineLearning_LinearRegressionModel.ipynb\" target=\"_parent\"><img src=\"https://colab.research.google.com/assets/colab-badge.svg\" alt=\"Open In Colab\"/></a>"
      ]
    },
    {
      "cell_type": "markdown",
      "metadata": {
        "id": "gCwYW6B3yqeN"
      },
      "source": [
        "MI practical 4 Linear Regression"
      ]
    },
    {
      "cell_type": "code",
      "metadata": {
        "colab": {
          "base_uri": "https://localhost:8080/"
        },
        "id": "6AbTFUo-yuV9",
        "outputId": "76d86fcf-cead-4bdc-fb46-1c1c6d0cb3d7"
      },
      "source": [
        "inp = int(input(\"Enter total no of attribute values you want in X and Y data for regression: \"))\n",
        "x={}\n",
        "\n",
        "print(\"\\nValues for Column x and y\")\n",
        "\n",
        "for i in range(inp):\n",
        "\tval1 = int(input(\"\\nEnter value for column x: \"))\n",
        "\tval2 = int(input(\"Enter value for column y: \"))\n",
        "\tx[val1] = val2\n",
        "\t"
      ],
      "execution_count": 2,
      "outputs": [
        {
          "name": "stdout",
          "output_type": "stream",
          "text": [
            "Enter total no of attribute values you want in X and Y data for regression: 5\n",
            "\n",
            "Values for Column x and y\n",
            "\n",
            "Enter value for column x: 98\n",
            "Enter value for column y: 85\n",
            "\n",
            "Enter value for column x: 85\n",
            "Enter value for column y: 95\n",
            "\n",
            "Enter value for column x: 80\n",
            "Enter value for column y: 70\n",
            "\n",
            "Enter value for column x: 70\n",
            "Enter value for column y: 65\n",
            "\n",
            "Enter value for column x: 60\n",
            "Enter value for column y: 70\n"
          ]
        }
      ]
    },
    {
      "cell_type": "code",
      "metadata": {
        "id": "oWp7PzmvzFMd"
      },
      "source": [
        "x_mean = 0\n",
        "y_mean = 0\n",
        "\n",
        "for i in x:\n",
        "\tx_mean = x_mean + i\n",
        "\ty_mean = y_mean + x[i]\n",
        "\t\n",
        "x_mean = x_mean / inp\n",
        "y_mean = y_mean / inp\n",
        "\n",
        "temp1 = 0\n",
        "temp2 = 0\n",
        "\n",
        "for i in x:\n",
        "\ttemp1 = temp1 + ((i-x_mean) * (x[i]-y_mean))\n",
        "\ttemp2 = temp2 + ((i-x_mean) ** 2)\n",
        "\t\n",
        "B1 = temp1/temp2\n",
        "B0 = y_mean - (B1 * x_mean)"
      ],
      "execution_count": 10,
      "outputs": []
    },
    {
      "cell_type": "code",
      "metadata": {
        "colab": {
          "base_uri": "https://localhost:8080/"
        },
        "id": "vV6Ym_thzNMo",
        "outputId": "55ede7eb-943f-41a5-a177-afc892a098fb"
      },
      "source": [
        "print(\"\\nB0 value is: \",B0)\n",
        "print(\"B1 value is: \",B1)"
      ],
      "execution_count": 13,
      "outputs": [
        {
          "output_type": "stream",
          "name": "stdout",
          "text": [
            "\n",
            "B0 value is:  30.73164918970449\n",
            "B1 value is:  0.588655862726406\n"
          ]
        }
      ]
    },
    {
      "cell_type": "code",
      "metadata": {
        "colab": {
          "base_uri": "https://localhost:8080/"
        },
        "id": "BFqpZ_IRzQxU",
        "outputId": "a4d4f496-9041-465d-cb68-208fa3ac465e"
      },
      "source": [
        "for j in x.keys():\n",
        "\tY = B0 + (B1 * j)\n",
        "\tprint(\"\\nPredicted Y value for \",j,\" is: \",Y)"
      ],
      "execution_count": 14,
      "outputs": [
        {
          "output_type": "stream",
          "name": "stdout",
          "text": [
            "\n",
            "Predicted Y value for  98  is:  88.41992373689229\n",
            "\n",
            "Predicted Y value for  85  is:  80.767397521449\n",
            "\n",
            "Predicted Y value for  80  is:  77.82411820781698\n",
            "\n",
            "Predicted Y value for  70  is:  71.93755958055291\n",
            "\n",
            "Predicted Y value for  60  is:  66.05100095328885\n"
          ]
        }
      ]
    },
    {
      "cell_type": "code",
      "metadata": {
        "colab": {
          "base_uri": "https://localhost:8080/"
        },
        "id": "lmCNJyZ3zTxb",
        "outputId": "9f9bc575-4a3e-4525-993f-5a889ab345df"
      },
      "source": [
        "X = int(input(\"\\nEnter X value for prediction of Y: \"))\n",
        "Y = B0 + (B1 * X)\n",
        "\n",
        "print(\"\\nPredicted Y value for \",X,\" is: \",Y)"
      ],
      "execution_count": 15,
      "outputs": [
        {
          "output_type": "stream",
          "name": "stdout",
          "text": [
            "\n",
            "Enter X value for prediction of Y: 89\n",
            "\n",
            "Predicted Y value for  89  is:  83.12202097235462\n"
          ]
        }
      ]
    }
  ]
}