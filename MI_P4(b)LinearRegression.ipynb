{
  "nbformat": 4,
  "nbformat_minor": 0,
  "metadata": {
    "colab": {
      "name": "MI_P4.ipynb",
      "provenance": [],
      "collapsed_sections": [],
      "authorship_tag": "ABX9TyN+mb1TqasMchjQVzc8po8G",
      "include_colab_link": true
    },
    "kernelspec": {
      "name": "python3",
      "display_name": "Python 3"
    },
    "language_info": {
      "name": "python"
    }
  },
  "cells": [
    {
      "cell_type": "markdown",
      "metadata": {
        "id": "view-in-github",
        "colab_type": "text"
      },
      "source": [
        "<a href=\"https://colab.research.google.com/github/Bhavesh0510/MI_Practicals/blob/main/MI_P4(b)LinearRegression.ipynb\" target=\"_parent\"><img src=\"https://colab.research.google.com/assets/colab-badge.svg\" alt=\"Open In Colab\"/></a>"
      ]
    },
    {
      "cell_type": "markdown",
      "metadata": {
        "id": "gCwYW6B3yqeN"
      },
      "source": [
        "MI practical 4 Linear Regression"
      ]
    },
    {
      "cell_type": "code",
      "metadata": {
        "colab": {
          "base_uri": "https://localhost:8080/"
        },
        "id": "6AbTFUo-yuV9",
        "outputId": "334d7323-5f1e-4932-f98b-3085ec1903e6"
      },
      "source": [
        "inp = int(input(\"Enter total no of attribute values you want in X and Y data for regression: \"))\n",
        "x={}\n",
        "\n",
        "print(\"\\nValues for Column x and y\")\n",
        "\n",
        "for i in range(inp):\n",
        "\tval1 = int(input(\"\\nEnter value for column x: \"))\n",
        "\tval2 = int(input(\"Enter value for column y: \"))\n",
        "\tx[val1] = val2\n",
        "\t"
      ],
      "execution_count": 16,
      "outputs": [
        {
          "name": "stdout",
          "output_type": "stream",
          "text": [
            "Enter total no of attribute values you want in X and Y data for regression: 5\n",
            "\n",
            "Values for Column x and y\n",
            "\n",
            "Enter value for column x: 1\n",
            "Enter value for column y: 1\n",
            "\n",
            "Enter value for column x: 2\n",
            "Enter value for column y: 3\n",
            "\n",
            "Enter value for column x: 4\n",
            "Enter value for column y: 3\n",
            "\n",
            "Enter value for column x: 3\n",
            "Enter value for column y: 2\n",
            "\n",
            "Enter value for column x: 5\n",
            "Enter value for column y: 5\n"
          ]
        }
      ]
    },
    {
      "cell_type": "code",
      "metadata": {
        "id": "oWp7PzmvzFMd"
      },
      "source": [
        "x_mean = 0\n",
        "y_mean = 0\n",
        "\n",
        "for i in x:\n",
        "\tx_mean = x_mean + i\n",
        "\ty_mean = y_mean + x[i]\n",
        "\t\n",
        "x_mean = x_mean / inp\n",
        "y_mean = y_mean / inp\n",
        "\n",
        "temp1 = 0\n",
        "temp2 = 0\n",
        "\n",
        "for i in x:\n",
        "\ttemp1 = temp1 + ((i-x_mean) * (x[i]-y_mean))\n",
        "\ttemp2 = temp2 + ((i-x_mean) ** 2)\n",
        "\t\n",
        "B1 = temp1/temp2\n",
        "B0 = y_mean - (B1 * x_mean)"
      ],
      "execution_count": 17,
      "outputs": []
    },
    {
      "cell_type": "code",
      "metadata": {
        "colab": {
          "base_uri": "https://localhost:8080/"
        },
        "id": "vV6Ym_thzNMo",
        "outputId": "2f6eb1de-6298-42bd-d541-8f95a1c81d7f"
      },
      "source": [
        "print(\"\\nB0 value is: \",B0)\n",
        "print(\"B1 value is: \",B1)"
      ],
      "execution_count": 18,
      "outputs": [
        {
          "output_type": "stream",
          "name": "stdout",
          "text": [
            "\n",
            "B0 value is:  0.39999999999999947\n",
            "B1 value is:  0.8\n"
          ]
        }
      ]
    },
    {
      "cell_type": "code",
      "metadata": {
        "colab": {
          "base_uri": "https://localhost:8080/"
        },
        "id": "BFqpZ_IRzQxU",
        "outputId": "34e3bb3c-9278-4361-98fd-7da8841e553a"
      },
      "source": [
        "li = {}\n",
        "for j in x.keys():\n",
        "  Y = B0 + (B1 * j)\n",
        "  print(\"\\nPredicted Y value for \",j,\" is: \",Y)\n",
        "  li[j] = Y\n"
      ],
      "execution_count": 26,
      "outputs": [
        {
          "output_type": "stream",
          "name": "stdout",
          "text": [
            "\n",
            "Predicted Y value for  1  is:  1.1999999999999995\n",
            "\n",
            "Predicted Y value for  2  is:  1.9999999999999996\n",
            "\n",
            "Predicted Y value for  4  is:  3.5999999999999996\n",
            "\n",
            "Predicted Y value for  3  is:  2.8\n",
            "\n",
            "Predicted Y value for  5  is:  4.3999999999999995\n"
          ]
        }
      ]
    },
    {
      "cell_type": "code",
      "metadata": {
        "colab": {
          "base_uri": "https://localhost:8080/",
          "height": 266
        },
        "id": "eOJnMhGu7ZQ4",
        "outputId": "6d57a947-60d3-423a-a646-ae13c990fc50"
      },
      "source": [
        "import matplotlib.pyplot as plt\n",
        "x=[]\n",
        "y=[]\n",
        "\n",
        "for i,j in li.items():\n",
        "  x.append(i)\n",
        "  y.append(j)\n",
        "\n",
        "  plt.plot(x,y)\n",
        "plt.show()"
      ],
      "execution_count": 29,
      "outputs": [
        {
          "output_type": "display_data",
          "data": {
            "image/png": "[encoded data removed]",
            "text/plain": [
              "<Figure size 432x288 with 1 Axes>"
            ]
          },
          "metadata": {
            "needs_background": "light"
          }
        }
      ]
    },
    {
      "cell_type": "code",
      "metadata": {
        "colab": {
          "base_uri": "https://localhost:8080/"
        },
        "id": "lmCNJyZ3zTxb",
        "outputId": "23c0b4dc-0c91-44c8-e2f2-9cdaaf6a7e15"
      },
      "source": [
        "X = int(input(\"\\nEnter X value for prediction of Y: \"))\n",
        "Y = B0 + (B1 * X)\n",
        "\n",
        "print(\"\\nPredicted Y value for \",X,\" is: \",Y)"
      ],
      "execution_count": 30,
      "outputs": [
        {
          "output_type": "stream",
          "name": "stdout",
          "text": [
            "\n",
            "Enter X value for prediction of Y: 5\n",
            "\n",
            "Predicted Y value for  5  is:  4.3999999999999995\n"
          ]
        }
      ]
    }
  ]
}